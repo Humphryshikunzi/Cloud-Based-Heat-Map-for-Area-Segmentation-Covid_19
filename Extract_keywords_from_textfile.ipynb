{
 "cells": [
  {
   "cell_type": "markdown",
   "metadata": {},
   "source": [
    "### Open the txt file"
   ]
  },
  {
   "cell_type": "code",
   "execution_count": 24,
   "metadata": {},
   "outputs": [],
   "source": [
    "# open the text file\n",
    "covid_text = open('Covid_19_Test_text.txt', 'rt')"
   ]
  },
  {
   "cell_type": "code",
   "execution_count": 25,
   "metadata": {},
   "outputs": [],
   "source": [
    "# read the text file\n",
    "covid_19_contents = covid_text.readlines()\n",
    "\n",
    "# note errors in the quatation marks\n",
    "\n",
    "covid_text.close()"
   ]
  },
  {
   "cell_type": "code",
   "execution_count": 26,
   "metadata": {},
   "outputs": [
    {
     "name": "stdout",
     "output_type": "stream",
     "text": [
      "['Dear Kenyans, over the last 24 hours, we have done a a mass testing for the covid 19 patients. Out of 843 samples we tested, we have confirmed 25 new cases, 4 are foreign nationals and then 20 are Kenyans. \\n', '10 of thm were cases from our survallence teams and the rest were through community transmissions. The cases were distributed as follows, two(2) are from Nairobi county, 10(10) are from \\n', 'Mombasa County, four(4) are from Bungoma county.Three (3) are from Mandera county, One (1) is from Kilifi, two (2) from Kwale and one (1) from Kisii County.\\n', \"Even the world's premier public health agencies, including the Centers for Disease Control and Prevention, have constantly altered their advice to keep pace with new developments. \\n\", 'We donâ€™t know why there are so many disease presentations, said Angela Rasmussen, a virologist at the Center for Infection and Immunity at Columbia Universityâ€™s Mailman School of\\n', 'Public Health. Bottom line, this is just so new that thereâ€™s a lot we donâ€™t know. \\n', 'More than four months of clinical experience across Asia, Europe and North America has shown the pathogen does much more than invade the lungs. \\n', 'No one was expecting a disease that would not fit the pattern of pneumonia and respiratory illness, \\n', 'said David Reich, a cardiac anesthesiologist and president of Mount Sinai Hospital in New York City. \\n', 'It attacks the heart, weakening its muscles and disrupting its critical rhythm. It savages kidneys so badly some hospitals have run short of dialysis equipment.\\n', 'It crawls along the nervous system, destroying taste and smell and occasionally reaching the brain. It creates blood clots that can kill with sudden efficiency and inflames blood vessels throughout the body. ']\n"
     ]
    }
   ],
   "source": [
    "# print the contents\n",
    "print(covid_19_contents)"
   ]
  },
  {
   "cell_type": "code",
   "execution_count": 27,
   "metadata": {},
   "outputs": [
    {
     "data": {
      "text/plain": [
       "['Dear Kenyans, over the last 24 hours, we have done a a mass testing for the covid 19 patients. Out of 843 samples we tested, we have confirmed 25 new cases, 4 are foreign nationals and then 20 are Kenyans. \\n',\n",
       " '10 of thm were cases from our survallence teams and the rest were through community transmissions. The cases were distributed as follows, two(2) are from Nairobi county, 10(10) are from \\n',\n",
       " 'Mombasa County, four(4) are from Bungoma county.Three (3) are from Mandera county, One (1) is from Kilifi, two (2) from Kwale and one (1) from Kisii County.\\n',\n",
       " \"Even the world's premier public health agencies, including the Centers for Disease Control and Prevention, have constantly altered their advice to keep pace with new developments. \\n\",\n",
       " 'We donâ€™t know why there are so many disease presentations, said Angela Rasmussen, a virologist at the Center for Infection and Immunity at Columbia Universityâ€™s Mailman School of\\n',\n",
       " 'Public Health. Bottom line, this is just so new that thereâ€™s a lot we donâ€™t know. \\n',\n",
       " 'More than four months of clinical experience across Asia, Europe and North America has shown the pathogen does much more than invade the lungs. \\n',\n",
       " 'No one was expecting a disease that would not fit the pattern of pneumonia and respiratory illness, \\n',\n",
       " 'said David Reich, a cardiac anesthesiologist and president of Mount Sinai Hospital in New York City. \\n',\n",
       " 'It attacks the heart, weakening its muscles and disrupting its critical rhythm. It savages kidneys so badly some hospitals have run short of dialysis equipment.\\n',\n",
       " 'It crawls along the nervous system, destroying taste and smell and occasionally reaching the brain. It creates blood clots that can kill with sudden efficiency and inflames blood vessels throughout the body. ']"
      ]
     },
     "execution_count": 27,
     "metadata": {},
     "output_type": "execute_result"
    }
   ],
   "source": [
    "covid_19_contents"
   ]
  },
  {
   "cell_type": "code",
   "execution_count": 28,
   "metadata": {},
   "outputs": [
    {
     "data": {
      "text/plain": [
       "list"
      ]
     },
     "execution_count": 28,
     "metadata": {},
     "output_type": "execute_result"
    }
   ],
   "source": [
    "type(covid_19_contents)"
   ]
  },
  {
   "cell_type": "code",
   "execution_count": 29,
   "metadata": {},
   "outputs": [],
   "source": [
    "covid_text = open('Covid_19_Test_text.txt', 'rt')\n",
    "covid_string = covid_text.read()"
   ]
  },
  {
   "cell_type": "code",
   "execution_count": 30,
   "metadata": {},
   "outputs": [
    {
     "data": {
      "text/plain": [
       "\"Dear Kenyans, over the last 24 hours, we have done a a mass testing for the covid 19 patients. Out of 843 samples we tested, we have confirmed 25 new cases, 4 are foreign nationals and then 20 are Kenyans. \\n10 of thm were cases from our survallence teams and the rest were through community transmissions. The cases were distributed as follows, two(2) are from Nairobi county, 10(10) are from \\nMombasa County, four(4) are from Bungoma county.Three (3) are from Mandera county, One (1) is from Kilifi, two (2) from Kwale and one (1) from Kisii County.\\nEven the world's premier public health agencies, including the Centers for Disease Control and Prevention, have constantly altered their advice to keep pace with new developments. \\nWe donâ€™t know why there are so many disease presentations, said Angela Rasmussen, a virologist at the Center for Infection and Immunity at Columbia Universityâ€™s Mailman School of\\nPublic Health. Bottom line, this is just so new that thereâ€™s a lot we donâ€™t know. \\nMore than four months of clinical experience across Asia, Europe and North America has shown the pathogen does much more than invade the lungs. \\nNo one was expecting a disease that would not fit the pattern of pneumonia and respiratory illness, \\nsaid David Reich, a cardiac anesthesiologist and president of Mount Sinai Hospital in New York City. \\nIt attacks the heart, weakening its muscles and disrupting its critical rhythm. It savages kidneys so badly some hospitals have run short of dialysis equipment.\\nIt crawls along the nervous system, destroying taste and smell and occasionally reaching the brain. It creates blood clots that can kill with sudden efficiency and inflames blood vessels throughout the body. \""
      ]
     },
     "execution_count": 30,
     "metadata": {},
     "output_type": "execute_result"
    }
   ],
   "source": [
    "covid_string"
   ]
  },
  {
   "cell_type": "code",
   "execution_count": 31,
   "metadata": {},
   "outputs": [
    {
     "data": {
      "text/plain": [
       "str"
      ]
     },
     "execution_count": 31,
     "metadata": {},
     "output_type": "execute_result"
    }
   ],
   "source": [
    "type(covid_string)"
   ]
  },
  {
   "cell_type": "code",
   "execution_count": 32,
   "metadata": {},
   "outputs": [],
   "source": [
    "test_covid_str = 'Dear Kenyans, over the last 24 hours, we have done a a mass testing for the covid 19 patients. Out of 843 samples we tested, we have confirmed 25 new cases, 4 are foreign nationals and then 20 are Kenyans. \\n10 of thm were cases from our survallence teams and the rest were through community transmissions. The cases were distributed as follows, two(2) are from Nairobi county, 10(10) are from \\nMombasa County, four(4) are from Bungoma county.Three (3) are from Mandera county, One (1) is from Kilifi, two (2) from Kwale and one (1) from Kisii County'"
   ]
  },
  {
   "cell_type": "code",
   "execution_count": 52,
   "metadata": {},
   "outputs": [],
   "source": [
    "#function to find the start index for iterating the string\n",
    "def find_start_phrase(text_string):\n",
    "    text_to_lower = text_string.lower().split()\n",
    "    get_str = text_string.find('over the last 24 hours')\n",
    "    return   get_str\n",
    " "
   ]
  },
  {
   "cell_type": "code",
   "execution_count": 53,
   "metadata": {},
   "outputs": [
    {
     "data": {
      "text/plain": [
       "14"
      ]
     },
     "execution_count": 53,
     "metadata": {},
     "output_type": "execute_result"
    }
   ],
   "source": [
    "# find the start index for iterating the string\n",
    "\n",
    "find_start_phrase(test_covid_str)"
   ]
  },
  {
   "cell_type": "code",
   "execution_count": 55,
   "metadata": {},
   "outputs": [],
   "source": [
    "# find all numeral values\n",
    "\n",
    "text_to_lower = test_covid_str.lower().split()\n",
    "list_values = text_to_lower"
   ]
  },
  {
   "cell_type": "code",
   "execution_count": 56,
   "metadata": {},
   "outputs": [
    {
     "data": {
      "text/plain": [
       "list"
      ]
     },
     "execution_count": 56,
     "metadata": {},
     "output_type": "execute_result"
    }
   ],
   "source": [
    "type(list_values)"
   ]
  },
  {
   "cell_type": "code",
   "execution_count": 62,
   "metadata": {},
   "outputs": [
    {
     "name": "stdout",
     "output_type": "stream",
     "text": [
      "<class 'str'>\n"
     ]
    }
   ],
   "source": [
    "print(type(list_values[5]))"
   ]
  },
  {
   "cell_type": "code",
   "execution_count": 64,
   "metadata": {},
   "outputs": [
    {
     "ename": "TypeError",
     "evalue": "must be str, not int",
     "output_type": "error",
     "traceback": [
      "\u001b[1;31m---------------------------------------------------------------------------\u001b[0m",
      "\u001b[1;31mTypeError\u001b[0m                                 Traceback (most recent call last)",
      "\u001b[1;32m<ipython-input-64-2c9a87cd2adf>\u001b[0m in \u001b[0;36m<module>\u001b[1;34m\u001b[0m\n\u001b[0;32m      4\u001b[0m \u001b[1;32mfor\u001b[0m \u001b[0mword\u001b[0m \u001b[1;32min\u001b[0m \u001b[0mlist_values\u001b[0m\u001b[1;33m:\u001b[0m\u001b[1;33m\u001b[0m\u001b[1;33m\u001b[0m\u001b[0m\n\u001b[0;32m      5\u001b[0m \u001b[1;33m\u001b[0m\u001b[0m\n\u001b[1;32m----> 6\u001b[1;33m     \u001b[0mindex\u001b[0m \u001b[1;33m=\u001b[0m \u001b[0mword\u001b[0m\u001b[1;33m.\u001b[0m\u001b[0mfind\u001b[0m\u001b[1;33m(\u001b[0m\u001b[1;36m2\u001b[0m\u001b[1;33m)\u001b[0m\u001b[1;33m\u001b[0m\u001b[1;33m\u001b[0m\u001b[0m\n\u001b[0m\u001b[0;32m      7\u001b[0m     \u001b[0mprint\u001b[0m\u001b[1;33m(\u001b[0m\u001b[0mword\u001b[0m\u001b[1;33m)\u001b[0m\u001b[1;33m\u001b[0m\u001b[1;33m\u001b[0m\u001b[0m\n",
      "\u001b[1;31mTypeError\u001b[0m: must be str, not int"
     ]
    }
   ],
   "source": [
    "## iterate through each word, if the word contains 0, 1, 2, 3, 4, 5, 6, 7, 8, 9\n",
    "#Then the data type for the word is an integer\n",
    "\n",
    "for word in list_values:\n",
    "    \n",
    "    index = word.find(2)\n",
    "    print(word)"
   ]
  },
  {
   "cell_type": "code",
   "execution_count": 66,
   "metadata": {},
   "outputs": [],
   "source": [
    "counties_in_kenya = \"Mombasa ,Kwale, Kilifi, Tana River, Lamu, Taita Taveta, Garissa, North Eastern, Wajir, Mandera, Marsabit, Isiolo, Meru, Tharaka Nithi, Embu, Kitui, Machakos, Makueni, Nyandarua, Nyeri, Kirinyaga, Muranga, Kiambu, Turkana, West Pokot, Samburu, Uasin Gishu, Trans-Nzoia, Elgeyo-Marakwet, Nandi, Baringo, Laikipia, Nakuru, Narok, Kajiado, Kericho, Bomet, Kakamega, Vihiga, Bungoma, Busia, Siaya, Kisumu, Homa, Migori, Kisii, Nyamira, Nairobi\""
   ]
  },
  {
   "cell_type": "code",
   "execution_count": 67,
   "metadata": {},
   "outputs": [],
   "source": [
    "list_coumties = counties_in_kenya.lower().split()"
   ]
  },
  {
   "cell_type": "code",
   "execution_count": 68,
   "metadata": {},
   "outputs": [
    {
     "data": {
      "text/plain": [
       "['mombasa',\n",
       " ',kwale,',\n",
       " 'kilifi,',\n",
       " 'tana',\n",
       " 'river,',\n",
       " 'lamu,',\n",
       " 'taita',\n",
       " 'taveta,',\n",
       " 'garissa,',\n",
       " 'north',\n",
       " 'eastern,',\n",
       " 'wajir,',\n",
       " 'mandera,',\n",
       " 'marsabit,',\n",
       " 'isiolo,',\n",
       " 'meru,',\n",
       " 'tharaka',\n",
       " 'nithi,',\n",
       " 'embu,',\n",
       " 'kitui,',\n",
       " 'machakos,',\n",
       " 'makueni,',\n",
       " 'nyandarua,',\n",
       " 'nyeri,',\n",
       " 'kirinyaga,',\n",
       " 'muranga,',\n",
       " 'kiambu,',\n",
       " 'turkana,',\n",
       " 'west',\n",
       " 'pokot,',\n",
       " 'samburu,',\n",
       " 'uasin',\n",
       " 'gishu,',\n",
       " 'trans-nzoia,',\n",
       " 'elgeyo-marakwet,',\n",
       " 'nandi,',\n",
       " 'baringo,',\n",
       " 'laikipia,',\n",
       " 'nakuru,',\n",
       " 'narok,',\n",
       " 'kajiado,',\n",
       " 'kericho,',\n",
       " 'bomet,',\n",
       " 'kakamega,',\n",
       " 'vihiga,',\n",
       " 'bungoma,',\n",
       " 'busia,',\n",
       " 'siaya,',\n",
       " 'kisumu,',\n",
       " 'homa,',\n",
       " 'migori,',\n",
       " 'kisii,',\n",
       " 'nyamira,',\n",
       " 'nairobi']"
      ]
     },
     "execution_count": 68,
     "metadata": {},
     "output_type": "execute_result"
    }
   ],
   "source": [
    "list_coumties"
   ]
  },
  {
   "cell_type": "code",
   "execution_count": null,
   "metadata": {},
   "outputs": [],
   "source": []
  }
 ],
 "metadata": {
  "kernelspec": {
   "display_name": "Python 3",
   "language": "python",
   "name": "python3"
  },
  "language_info": {
   "codemirror_mode": {
    "name": "ipython",
    "version": 3
   },
   "file_extension": ".py",
   "mimetype": "text/x-python",
   "name": "python",
   "nbconvert_exporter": "python",
   "pygments_lexer": "ipython3",
   "version": "3.7.4"
  }
 },
 "nbformat": 4,
 "nbformat_minor": 2
}
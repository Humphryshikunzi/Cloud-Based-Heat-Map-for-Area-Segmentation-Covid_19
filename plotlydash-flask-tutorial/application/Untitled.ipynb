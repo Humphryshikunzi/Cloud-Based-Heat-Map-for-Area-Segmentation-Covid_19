{
 "cells": [
  {
   "cell_type": "code",
   "execution_count": 1,
   "metadata": {},
   "outputs": [],
   "source": [
    "\"\"\"Initialize Flask app.\"\"\"\n",
    "from flask import Flask\n",
    "from flask_assets import Environment\n",
    "\n",
    "\n",
    "def create_app():\n",
    "    \"\"\"Construct core Flask application with embedded Dash app.\"\"\"\n",
    "    app = Flask(__name__, instance_relative_config=False)\n",
    "    app.config.from_object('config.Config')\n",
    "    assets = Environment()\n",
    "    assets.init_app(app)\n",
    "\n",
    "    with app.app_context():\n",
    "        # Import parts of our core Flask app\n",
    "        from . import routes\n",
    "        from .assets import compile_static_assets\n",
    "\n",
    "        # Import Dash application\n",
    "        from .plotlydash.dashboard import create_dashboard\n",
    "        app = create_dashboard(app)\n",
    "\n",
    "        # Compile static assets\n",
    "        compile_static_assets(assets)\n",
    "\n",
    "        return app\n"
   ]
  },
  {
   "cell_type": "code",
   "execution_count": null,
   "metadata": {},
   "outputs": [],
   "source": []
  }
 ],
 "metadata": {
  "kernelspec": {
   "display_name": "Python 3",
   "language": "python",
   "name": "python3"
  },
  "language_info": {
   "codemirror_mode": {
    "name": "ipython",
    "version": 3
   },
   "file_extension": ".py",
   "mimetype": "text/x-python",
   "name": "python",
   "nbconvert_exporter": "python",
   "pygments_lexer": "ipython3",
   "version": "3.7.4"
  }
 },
 "nbformat": 4,
 "nbformat_minor": 2
}
